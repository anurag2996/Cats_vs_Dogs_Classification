{
 "cells": [
  {
   "cell_type": "markdown",
   "metadata": {},
   "source": [
    "Importing Dependecies"
   ]
  },
  {
   "cell_type": "code",
   "execution_count": null,
   "metadata": {
    "collapsed": true
   },
   "outputs": [],
   "source": [
    "import keras \n",
    "import os\n",
    "import pandas as pd\n",
    "from keras.layers import Activation, Dropout, Flatten, Dense\n",
    "from keras.preprocessing.image import ImageDataGenerator\n",
    "from keras.layers import Conv2D, MaxPooling2D, ZeroPadding2D\n",
    "from keras import optimizers\n",
    "from keras.layers.normalization import BatchNormalization\n",
    "from keras.models import Sequential"
   ]
  },
  {
   "cell_type": "code",
   "execution_count": 2,
   "metadata": {
    "collapsed": true
   },
   "outputs": [],
   "source": [
    "path = '/users/anurag/desktop/dogs_cats'\n",
    "train_dir = path +'/train1'\n",
    "validation_dir = path + '/validation'\n",
    "img_width,img_height = 50,50 #making images width and height to be 50"
   ]
  },
  {
   "cell_type": "markdown",
   "metadata": {},
   "source": [
    "Automatically retrieving images from their folder"
   ]
  },
  {
   "cell_type": "code",
   "execution_count": 3,
   "metadata": {},
   "outputs": [
    {
     "name": "stdout",
     "output_type": "stream",
     "text": [
      "Found 25000 images belonging to 2 classes.\n",
      "Found 4000 images belonging to 2 classes.\n"
     ]
    }
   ],
   "source": [
    "# used to rescale the pixel values from [0, 255] to [0, 1] interval\n",
    "datagen = ImageDataGenerator(rescale=1./255)\n",
    "\n",
    "# automatically retrieve images and their classes for train and validation sets\n",
    "train_generator = datagen.flow_from_directory(\n",
    "        train_dir,\n",
    "        target_size=(img_width, img_height),\n",
    "        color_mode='grayscale',\n",
    "        batch_size=32,\n",
    "        class_mode='categorical')\n",
    "\n",
    "validation_generator = datagen.flow_from_directory(\n",
    "        validation_dir,\n",
    "        target_size=(img_width, img_height),\n",
    "        color_mode='grayscale',\n",
    "        batch_size=32,\n",
    "        class_mode='categorical')"
   ]
  },
  {
   "cell_type": "markdown",
   "metadata": {},
   "source": [
    "Defining the Model"
   ]
  },
  {
   "cell_type": "code",
   "execution_count": 4,
   "metadata": {
    "collapsed": true
   },
   "outputs": [],
   "source": [
    "model = Sequential()\n",
    "model.add(Conv2D(32, (3, 3), input_shape=(img_width, img_height,1))) #taking filter window to be of 3X3\n",
    "model.add(BatchNormalization())\n",
    "model.add(Activation('relu'))\n",
    "model.add(MaxPooling2D(pool_size=(2, 2))) #pooling of 2X2 with stride to be 1\n",
    "\n",
    "model.add(Conv2D(64, (3, 3)))\n",
    "model.add(BatchNormalization())\n",
    "model.add(Activation('relu'))\n",
    "model.add(MaxPooling2D(pool_size=(2, 2)))  #pooling of 2X2 with stride to be 1\n",
    "\n",
    "model.add(Conv2D(128, (3, 3)))\n",
    "model.add(BatchNormalization())\n",
    "model.add(Activation('relu'))\n",
    "model.add(MaxPooling2D(pool_size=(2, 2)))  #pooling of 2X2 with stride to be 1\n",
    "\n",
    "model.add(Conv2D(64, (3, 3)))\n",
    "model.add(BatchNormalization())\n",
    "model.add(Activation('relu'))\n",
    "model.add(MaxPooling2D(pool_size=(2, 2)))  #pooling of 2X2 with stride to be 1\n",
    "\n",
    "model.add(Flatten())\n",
    "\n",
    "model.add(Dense(128))\n",
    "model.add(Activation('relu'))\n",
    "\n",
    "model.add(Dropout(0.8))\n",
    "\n",
    "model.add(Dense(2))\n",
    "model.add(Activation('sigmoid'))"
   ]
  },
  {
   "cell_type": "markdown",
   "metadata": {},
   "source": [
    "Defining the optimizer"
   ]
  },
  {
   "cell_type": "code",
   "execution_count": 5,
   "metadata": {
    "collapsed": true
   },
   "outputs": [],
   "source": [
    "rmsprop = optimizers.RMSprop(lr=1e-4)"
   ]
  },
  {
   "cell_type": "markdown",
   "metadata": {},
   "source": [
    "Compiling the model"
   ]
  },
  {
   "cell_type": "code",
   "execution_count": 6,
   "metadata": {
    "collapsed": true
   },
   "outputs": [],
   "source": [
    "model.compile(loss='categorical_crossentropy', optimizer='rmsprop',metrics=['accuracy'])"
   ]
  },
  {
   "cell_type": "code",
   "execution_count": 7,
   "metadata": {},
   "outputs": [
    {
     "name": "stdout",
     "output_type": "stream",
     "text": [
      "Epoch 1/20\n",
      "500/500 [==============================] - 237s 473ms/step - loss: 0.6541 - acc: 0.6370 - val_loss: 0.5547 - val_acc: 0.7145\n",
      "Epoch 2/20\n",
      "500/500 [==============================] - 195s 389ms/step - loss: 0.5442 - acc: 0.7331 - val_loss: 1.5341 - val_acc: 0.5309\n",
      "Epoch 3/20\n",
      "500/500 [==============================] - 219s 437ms/step - loss: 0.4829 - acc: 0.7756 - val_loss: 0.4635 - val_acc: 0.7797\n",
      "Epoch 4/20\n",
      "500/500 [==============================] - 206s 411ms/step - loss: 0.4326 - acc: 0.8044 - val_loss: 0.5028 - val_acc: 0.7746\n",
      "Epoch 5/20\n",
      "500/500 [==============================] - 203s 405ms/step - loss: 0.4010 - acc: 0.8265 - val_loss: 0.4240 - val_acc: 0.8238\n",
      "Epoch 6/20\n",
      "500/500 [==============================] - 199s 399ms/step - loss: 0.3737 - acc: 0.8407 - val_loss: 0.3512 - val_acc: 0.8348\n",
      "Epoch 7/20\n",
      "500/500 [==============================] - 188s 376ms/step - loss: 0.3353 - acc: 0.8572 - val_loss: 0.4685 - val_acc: 0.8102\n",
      "Epoch 8/20\n",
      "500/500 [==============================] - 193s 386ms/step - loss: 0.3174 - acc: 0.8659 - val_loss: 0.2332 - val_acc: 0.9086\n",
      "Epoch 9/20\n",
      "500/500 [==============================] - 209s 418ms/step - loss: 0.2804 - acc: 0.8867 - val_loss: 0.4464 - val_acc: 0.7883\n",
      "Epoch 10/20\n",
      "500/500 [==============================] - 220s 441ms/step - loss: 0.2461 - acc: 0.9008 - val_loss: 0.4124 - val_acc: 0.8184\n",
      "Epoch 11/20\n",
      "500/500 [==============================] - 193s 386ms/step - loss: 0.2422 - acc: 0.9026 - val_loss: 0.1369 - val_acc: 0.9461\n",
      "Epoch 12/20\n",
      "500/500 [==============================] - 211s 422ms/step - loss: 0.1990 - acc: 0.9241 - val_loss: 0.2313 - val_acc: 0.8992\n",
      "Epoch 13/20\n",
      "500/500 [==============================] - 213s 426ms/step - loss: 0.1921 - acc: 0.9262 - val_loss: 0.2051 - val_acc: 0.9281\n",
      "Epoch 14/20\n",
      "500/500 [==============================] - 195s 389ms/step - loss: 0.1879 - acc: 0.9314 - val_loss: 1.0279 - val_acc: 0.7336\n",
      "Epoch 15/20\n",
      "500/500 [==============================] - 208s 416ms/step - loss: 0.1594 - acc: 0.9419 - val_loss: 0.1991 - val_acc: 0.9246\n",
      "Epoch 16/20\n",
      "500/500 [==============================] - 208s 417ms/step - loss: 0.1588 - acc: 0.9434 - val_loss: 0.0883 - val_acc: 0.9672\n",
      "Epoch 17/20\n",
      "500/500 [==============================] - 232s 463ms/step - loss: 0.1531 - acc: 0.9452 - val_loss: 0.3368 - val_acc: 0.8820\n",
      "Epoch 18/20\n",
      "500/500 [==============================] - 221s 441ms/step - loss: 0.1349 - acc: 0.9511 - val_loss: 0.1362 - val_acc: 0.9445\n",
      "Epoch 19/20\n",
      "500/500 [==============================] - 214s 429ms/step - loss: 0.1368 - acc: 0.9512 - val_loss: 0.0701 - val_acc: 0.9707\n",
      "Epoch 20/20\n",
      "500/500 [==============================] - 237s 475ms/step - loss: 0.1256 - acc: 0.9574 - val_loss: 0.6605 - val_acc: 0.8480\n"
     ]
    }
   ],
   "source": [
    "batch = 50\n",
    "history = model.fit_generator(\n",
    "        train_generator,\n",
    "        steps_per_epoch = 25000/batch,\n",
    "        epochs = 20 ,\n",
    "        validation_data = validation_generator,\n",
    "        validation_steps=4000/batch)\n"
   ]
  },
  {
   "cell_type": "markdown",
   "metadata": {},
   "source": [
    "Evaluating the model on the validation data itself"
   ]
  },
  {
   "cell_type": "code",
   "execution_count": 9,
   "metadata": {},
   "outputs": [
    {
     "data": {
      "text/plain": [
       "[0.6732596755027771, 0.84437499999999999]"
      ]
     },
     "execution_count": 9,
     "metadata": {},
     "output_type": "execute_result"
    }
   ],
   "source": [
    "model.evaluate_generator(validation_generator, 100)"
   ]
  },
  {
   "cell_type": "code",
   "execution_count": 10,
   "metadata": {
    "collapsed": true
   },
   "outputs": [],
   "source": [
    "import matplotlib.pyplot as plt"
   ]
  },
  {
   "cell_type": "code",
   "execution_count": 11,
   "metadata": {},
   "outputs": [
    {
     "data": {
      "image/png": "[encoded data removed]",
      "text/plain": [
       "<matplotlib.figure.Figure at 0x181d102048>"
      ]
     },
     "metadata": {},
     "output_type": "display_data"
    }
   ],
   "source": [
    "plt.plot(history.history['acc'])\n",
    "plt.plot(history.history['val_acc'])\n",
    "plt.title('model accuracy')\n",
    "plt.ylabel('accuracy')\n",
    "plt.xlabel('epoch')\n",
    "plt.legend(['train', 'test'], loc='upper left')\n",
    "plt.show()"
   ]
  },
  {
   "cell_type": "code",
   "execution_count": 12,
   "metadata": {},
   "outputs": [
    {
     "data": {
      "image/png": "[encoded data removed]",
      "text/plain": [
       "<matplotlib.figure.Figure at 0x181d2efb38>"
      ]
     },
     "metadata": {},
     "output_type": "display_data"
    }
   ],
   "source": [
    "plt.plot(history.history['loss'])\n",
    "plt.plot(history.history['val_loss'])\n",
    "plt.title('model loss')\n",
    "plt.ylabel('loss')\n",
    "plt.xlabel('epoch')\n",
    "plt.legend(['train', 'test'], loc='upper left')\n",
    "plt.show()"
   ]
  }
 ],
 "metadata": {
  "kernelspec": {
   "display_name": "Python 3",
   "language": "python",
   "name": "python3"
  },
  "language_info": {
   "codemirror_mode": {
    "name": "ipython",
    "version": 3
   },
   "file_extension": ".py",
   "mimetype": "text/x-python",
   "name": "python",
   "nbconvert_exporter": "python",
   "pygments_lexer": "ipython3",
   "version": "3.6.3"
  }
 },
 "nbformat": 4,
 "nbformat_minor": 2
}
